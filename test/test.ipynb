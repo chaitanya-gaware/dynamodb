{
 "cells": [
  {
   "cell_type": "code",
   "execution_count": 16,
   "metadata": {},
   "outputs": [
    {
     "name": "stdout",
     "output_type": "stream",
     "text": [
      "{1: 'a', 2: 'b'}\n",
      "[(1, 'a'), (2, 'b')]\n",
      "1 a\n",
      "2 b\n"
     ]
    }
   ],
   "source": [
    "dict1 = {1:\"a\", 2:\"b\"}\n",
    "print(dict1)\n",
    "s = list(dict1.items())\n",
    "print(s)\n",
    "for i in s:\n",
    "    print(i[0], i[1])"
   ]
  },
  {
   "cell_type": "code",
   "execution_count": 17,
   "metadata": {},
   "outputs": [
    {
     "name": "stdout",
     "output_type": "stream",
     "text": [
      "{1: 'a', 2: 'b', 3: 'b'}\n"
     ]
    }
   ],
   "source": [
    "dict1[3]= \"b\"\n",
    "print(dict1)\n",
    "dict2 = {4:\"d\"}"
   ]
  },
  {
   "cell_type": "code",
   "execution_count": 19,
   "metadata": {},
   "outputs": [
    {
     "name": "stdout",
     "output_type": "stream",
     "text": [
      "{1: 'a', 2: 'b', 3: 'b', 4: 'd'}\n"
     ]
    }
   ],
   "source": [
    "dict1.update(dict2)\n",
    "print(dict1)"
   ]
  },
  {
   "cell_type": "code",
   "execution_count": 1,
   "metadata": {},
   "outputs": [
    {
     "name": "stdout",
     "output_type": "stream",
     "text": [
      "  raw_ingestion_status inhance_injection source_system  status    table_name  \\\n",
      "0            Processed         Completed          alfa  Active  SampleTable1   \n",
      "1            Processed        inprogress          alfa  Active  SampleTable2   \n",
      "2            Processed              Fail          alfa  Active  SampleTable3   \n",
      "3              Pending              Fail          alfa  Active  SampleTable4   \n",
      "\n",
      "  file_name_time  \n",
      "0    file1_time1  \n",
      "1    file2_time2  \n",
      "2    file3_time3  \n",
      "3    file3_time4  \n"
     ]
    }
   ],
   "source": [
    "import pandas as pd\n",
    "\n",
    "data = [{'raw_ingestion_status': {'S': 'Processed'}, 'inhance_injection': {'S': 'Completed'}, 'source_system': {'S': 'alfa'}, 'status': {'S': 'Active'}, 'table_name': {'S': 'SampleTable1'}, 'file_name_time': {'S': 'file1_time1'}}, {'raw_ingestion_status': {'S': 'Processed'}, 'inhance_injection': {'S': 'inprogress'}, 'source_system': {'S': 'alfa'}, 'status': {'S': 'Active'}, 'table_name': {'S': 'SampleTable2'}, 'file_name_time': {'S': 'file2_time2'}}, {'raw_ingestion_status': {'S': 'Processed'}, 'inhance_injection': {'S': 'Fail'}, 'source_system': {'S': 'alfa'}, 'status': {'S': 'Active'}, 'table_name': {'S': 'SampleTable3'}, 'file_name_time': {'S': 'file3_time3'}}, {'raw_ingestion_status': {'S': 'Pending'}, 'inhance_injection': {'S': 'Fail'}, 'source_system': {'S': 'alfa'}, 'status': {'S': 'Active'}, 'table_name': {'S': 'SampleTable4'}, 'file_name_time': {'S': 'file3_time4'}}]\n",
    "\n",
    "formatted_data = []\n",
    "\n",
    "for entry in data:\n",
    "    formatted_entry = {}\n",
    "    for key, value in entry.items():\n",
    "        formatted_entry[key] = value['S']\n",
    "    formatted_data.append(formatted_entry)\n",
    "\n",
    "df = pd.DataFrame(formatted_data)\n",
    "\n",
    "print(df)\n"
   ]
  },
  {
   "cell_type": "code",
   "execution_count": 11,
   "metadata": {},
   "outputs": [
    {
     "name": "stdout",
     "output_type": "stream",
     "text": [
      "{'raw_ingestion_status': 'Processed', 'inhance_injection': 'Completed', 'source_system': 'alfa', 'status': 'Active', 'table_name': 'SampleTable1', 'file_name_time': 'file1_time1'}\n",
      "{'raw_ingestion_status': 'Processed', 'inhance_injection': 'inprogress', 'source_system': 'alfa', 'status': 'Active', 'table_name': 'SampleTable2', 'file_name_time': 'file2_time2'}\n",
      "{'raw_ingestion_status': 'Processed', 'inhance_injection': 'Fail', 'source_system': 'alfa', 'status': 'Active', 'table_name': 'SampleTable3', 'file_name_time': 'file3_time3'}\n",
      "{'raw_ingestion_status': 'Pending', 'inhance_injection': 'Fail', 'source_system': 'alfa', 'status': 'Active', 'table_name': 'SampleTable4', 'file_name_time': 'file3_time4'}\n"
     ]
    }
   ],
   "source": [
    "data = [{'raw_ingestion_status': {'S': 'Processed'}, 'inhance_injection': {'S': 'Completed'}, 'source_system': {'S': 'alfa'}, 'status': {'S': 'Active'}, 'table_name': {'S': 'SampleTable1'}, 'file_name_time': {'S': 'file1_time1'}}, \n",
    "        {'raw_ingestion_status': {'S': 'Processed'}, 'inhance_injection': {'S': 'inprogress'}, 'source_system': {'S': 'alfa'}, 'status': {'S': 'Active'}, 'table_name': {'S': 'SampleTable2'}, 'file_name_time': {'S': 'file2_time2'}}, \n",
    "        {'raw_ingestion_status': {'S': 'Processed'}, 'inhance_injection': {'S': 'Fail'}, 'source_system': {'S': 'alfa'}, 'status': {'S': 'Active'}, 'table_name': {'S': 'SampleTable3'}, 'file_name_time': {'S': 'file3_time3'}}, \n",
    "        {'raw_ingestion_status': {'S': 'Pending'}, 'inhance_injection': {'S': 'Fail'}, 'source_system': {'S': 'alfa'}, 'status': {'S': 'Active'}, 'table_name': {'S': 'SampleTable4'}, 'file_name_time': {'S': 'file3_time4'}}\n",
    "        ]\n",
    "formatted_data = []\n",
    "for entry in data:\n",
    "    formatted_entry = {}\n",
    "    for key, value in entry.items():\n",
    "        formatted_entry[key] = value['S']\n",
    "    formatted_data.append(formatted_entry)\n",
    "   \n",
    "# print(formatted_data)\n",
    "for items in formatted_data:\n",
    "    print(items)"
   ]
  },
  {
   "cell_type": "code",
   "execution_count": 1,
   "metadata": {},
   "outputs": [
    {
     "name": "stdout",
     "output_type": "stream",
     "text": [
      "critical_process\n",
      "non_critical_process\n"
     ]
    }
   ],
   "source": [
    "list_table = [\"critical_process\", \"non_critical_process\"]\n",
    "for table_name in list_table:\n",
    "    print(table_name)"
   ]
  },
  {
   "cell_type": "code",
   "execution_count": 5,
   "metadata": {},
   "outputs": [
    {
     "name": "stdout",
     "output_type": "stream",
     "text": [
      "{'raw_ingestion_status': {'S': 'Processed'}, 'inhance_injection': {'S': 'Completed'}, 'source_system': {'S': 'alfa'}, 'status': {'S': 'Active'}, 'table_name': {'S': 'SampleTable1'}}\n"
     ]
    }
   ],
   "source": []
  },
  {
   "cell_type": "code",
   "execution_count": 32,
   "metadata": {},
   "outputs": [
    {
     "name": "stdout",
     "output_type": "stream",
     "text": [
      "<class 'list'>\n",
      "<class 'list'>\n",
      "[{'raw_ingestion_status': {'S': 'Processed'}, 'inhance_injection': {'S': 'Completed'}, 'source_system': {'S': 'alfa'}, 'status': {'S': 'Active'}, 'table_name': {'S': 'SampleTable1'}, 'file_name_time': {'S': 'file1_time1'}}, {'raw_ingestion_status': {'S': 'Processed'}, 'inhance_injection': {'S': 'inprogress'}, 'source_system': {'S': 'alfa'}, 'status': {'S': 'Active'}, 'table_name': {'S': 'SampleTable2'}, 'file_name_time': {'S': 'file2_time2'}}, {'raw_ingestion_status': {'S': 'Processed'}, 'inhance_injection': {'S': 'Fail'}, 'source_system': {'S': 'alfa'}, 'status': {'S': 'Active'}, 'table_name': {'S': 'SampleTable3'}, 'file_name_time': {'S': 'file3_time3'}}, {'raw_ingestion_status': {'S': 'Pending'}, 'inhance_injection': {'S': 'Fail'}, 'source_system': {'S': 'alfa'}, 'status': {'S': 'Active'}, 'table_name': {'S': 'SampleTable4'}, 'file_name_time': {'S': 'file3_time4'}}]\n"
     ]
    },
    {
     "ename": "AttributeError",
     "evalue": "'list' object has no attribute 'values'",
     "output_type": "error",
     "traceback": [
      "\u001b[0;31m---------------------------------------------------------------------------\u001b[0m",
      "\u001b[0;31mAttributeError\u001b[0m                            Traceback (most recent call last)",
      "Cell \u001b[0;32mIn[32], line 25\u001b[0m\n\u001b[1;32m     23\u001b[0m \u001b[38;5;28mprint\u001b[39m(\u001b[38;5;28mtype\u001b[39m(json_data))\n\u001b[1;32m     24\u001b[0m csv_file \u001b[38;5;241m=\u001b[39m \u001b[38;5;124m'\u001b[39m\u001b[38;5;124moutput.csv\u001b[39m\u001b[38;5;124m'\u001b[39m\n\u001b[0;32m---> 25\u001b[0m \u001b[43mjson_to_csv\u001b[49m\u001b[43m(\u001b[49m\u001b[43mjson_data\u001b[49m\u001b[43m,\u001b[49m\u001b[43m \u001b[49m\u001b[43mcsv_file\u001b[49m\u001b[43m)\u001b[49m\n",
      "Cell \u001b[0;32mIn[32], line 18\u001b[0m, in \u001b[0;36mjson_to_csv\u001b[0;34m(json_data, csv_file)\u001b[0m\n\u001b[1;32m     16\u001b[0m \u001b[38;5;66;03m# # Write data rows\u001b[39;00m\n\u001b[1;32m     17\u001b[0m \u001b[38;5;28;01mfor\u001b[39;00m row \u001b[38;5;129;01min\u001b[39;00m data:\n\u001b[0;32m---> 18\u001b[0m     \u001b[38;5;28mprint\u001b[39m(\u001b[38;5;28;43mlist\u001b[39;49m\u001b[43m(\u001b[49m\u001b[43mrow\u001b[49m\u001b[38;5;241;43m.\u001b[39;49m\u001b[43mvalues\u001b[49m\u001b[43m(\u001b[49m\u001b[43m)\u001b[49m\u001b[43m)\u001b[49m\u001b[38;5;241;43m.\u001b[39;49m\u001b[43mvalues\u001b[49m())\n",
      "\u001b[0;31mAttributeError\u001b[0m: 'list' object has no attribute 'values'"
     ]
    }
   ],
   "source": []
  },
  {
   "cell_type": "code",
   "execution_count": 35,
   "metadata": {},
   "outputs": [
    {
     "name": "stdout",
     "output_type": "stream",
     "text": [
      "CSV file created: output.csv\n"
     ]
    }
   ],
   "source": []
  },
  {
   "cell_type": "code",
   "execution_count": null,
   "metadata": {},
   "outputs": [],
   "source": [
    "[{'raw_ingestion_status': {'S': 'Processed'}, 'inhance_injection': {'S': 'Completed'}, 'source_system': {'S': 'alfa'}, 'status': {'S': 'Active'}, 'table_name': {'S': 'SampleTable1'}, 'file_name_time': {'S': 'file1_time1'}}, {'raw_ingestion_status': {'S': 'Processed'}, 'inhance_injection': {'S': 'inprogress'}, 'source_system': {'S': 'alfa'}, 'status': {'S': 'Active'}, 'table_name': {'S': 'SampleTable2'}, 'file_name_time': {'S': 'file2_time2'}}, {'raw_ingestion_status': {'S': 'Processed'}, 'inhance_injection': {'S': 'Fail'}, 'source_system': {'S': 'alfa'}, 'status': {'S': 'Active'}, 'table_name': {'S': 'SampleTable3'}, 'file_name_time': {'S': 'file3_time3'}}, {'raw_ingestion_status': {'S': 'Pending'}, 'inhance_injection': {'S': 'Fail'}, 'source_system': {'S': 'alfa'}, 'status': {'S': 'Active'}, 'table_name': {'S': 'SampleTable4'}, 'file_name_time': {'S': 'file3_time4'}}]\n",
    "i have this kind of data and i want to convert it into the structure format such that \n",
    "\n",
    "raw_ingestion_status\tinhance_injection\tsource_system\tstatus\ttable_name\tfile_name_time\n",
    "Processed           \tCompleted\t            alfa\t    Active\tSampleTable1\tfile1_time1\n",
    "Processed           \tinprogress          \talfa    \tActive\tSampleTable2\tfile2_time2"
   ]
  },
  {
   "cell_type": "code",
   "execution_count": 36,
   "metadata": {},
   "outputs": [
    {
     "name": "stdout",
     "output_type": "stream",
     "text": [
      "  raw_ingestion_status inhance_injection source_system  status    table_name  \\\n",
      "0            Processed         Completed          alfa  Active  SampleTable1   \n",
      "1            Processed        inprogress          alfa  Active  SampleTable2   \n",
      "2            Processed              Fail          alfa  Active  SampleTable3   \n",
      "3              Pending              Fail          alfa  Active  SampleTable4   \n",
      "\n",
      "  file_name_time  \n",
      "0    file1_time1  \n",
      "1    file2_time2  \n",
      "2    file3_time3  \n",
      "3    file3_time4  \n"
     ]
    }
   ],
   "source": [
    "import pandas as pd\n",
    "\n",
    "data = [{'raw_ingestion_status': {'S': 'Processed'}, 'inhance_injection': {'S': 'Completed'}, 'source_system': {'S': 'alfa'}, 'status': {'S': 'Active'}, 'table_name': {'S': 'SampleTable1'}, 'file_name_time': {'S': 'file1_time1'}}, {'raw_ingestion_status': {'S': 'Processed'}, 'inhance_injection': {'S': 'inprogress'}, 'source_system': {'S': 'alfa'}, 'status': {'S': 'Active'}, 'table_name': {'S': 'SampleTable2'}, 'file_name_time': {'S': 'file2_time2'}}, {'raw_ingestion_status': {'S': 'Processed'}, 'inhance_injection': {'S': 'Fail'}, 'source_system': {'S': 'alfa'}, 'status': {'S': 'Active'}, 'table_name': {'S': 'SampleTable3'}, 'file_name_time': {'S': 'file3_time3'}}, {'raw_ingestion_status': {'S': 'Pending'}, 'inhance_injection': {'S': 'Fail'}, 'source_system': {'S': 'alfa'}, 'status': {'S': 'Active'}, 'table_name': {'S': 'SampleTable4'}, 'file_name_time': {'S': 'file3_time4'}}]\n",
    "\n",
    "# Extracting data into a list of dictionaries\n",
    "formatted_data = [{key: value['S'] for key, value in entry.items()} for entry in data]\n",
    "\n",
    "# Creating DataFrame\n",
    "df = pd.DataFrame(formatted_data)\n",
    "\n",
    "print(df)\n"
   ]
  },
  {
   "cell_type": "code",
   "execution_count": null,
   "metadata": {},
   "outputs": [],
   "source": [
    "[('raw_ingestion_status', 'Processed'), ('inhance_injection', 'Completed'), ('source_system', 'alfa'), ('status', 'Active'), ('table_name', 'SampleTable1'), ('file_name_time', 'file1_time1'),\n",
    " ('raw_ingestion_status', 'Processed'), ('inhance_injection', 'inprogress'), ('source_system', 'alfa'), ('status', 'Active'), ('table_name', 'SampleTable2'), ('file_name_time', 'file2_time2'),\n",
    " ('raw_ingestion_status', 'Processed'), ('inhance_injection', 'Fail'), ('source_system', 'alfa'), ('status', 'Active'), ('table_name', 'SampleTable3'), ('file_name_time', 'file3_time3'), \n",
    " ('raw_ingestion_status', 'Pending'), ('inhance_injection', 'Fail'), ('source_system', 'alfa'), ('status', 'Active'), ('table_name', 'SampleTable4'), ('file_name_time', 'file3_time4')\n",
    " ]"
   ]
  },
  {
   "cell_type": "code",
   "execution_count": null,
   "metadata": {},
   "outputs": [],
   "source": [
    "[([('raw_ingestion_status', 'Processed'), ('inhance_injection', 'Completed'), ('source_system', 'alfa'), ('status', 'Active'), ('table_name', 'SampleTable1'), ('file_name_time', 'file1_time1'), \n",
    "   ('raw_ingestion_status', 'Processed'), ('inhance_injection', 'inprogress'), ('source_system', 'alfa'), ('status', 'Active'), ('table_name', 'SampleTable2'), ('file_name_time', 'file2_time2'), \n",
    "   ('raw_ingestion_status', 'Processed'), ('inhance_injection', 'Fail'), ('source_system', 'alfa'), ('status', 'Active'), ('table_name', 'SampleTable3'), ('file_name_time', 'file3_time3'), \n",
    "   ('raw_ingestion_status', 'Pending'), ('inhance_injection', 'Fail'), ('source_system', 'alfa'), ('status', 'Active'), ('table_name', 'SampleTable4'), ('file_name_time', 'file3_time4')],)]"
   ]
  }
 ],
 "metadata": {
  "kernelspec": {
   "display_name": ".spark-env",
   "language": "python",
   "name": "python3"
  },
  "language_info": {
   "codemirror_mode": {
    "name": "ipython",
    "version": 3
   },
   "file_extension": ".py",
   "mimetype": "text/x-python",
   "name": "python",
   "nbconvert_exporter": "python",
   "pygments_lexer": "ipython3",
   "version": "3.8.18"
  }
 },
 "nbformat": 4,
 "nbformat_minor": 2
}
